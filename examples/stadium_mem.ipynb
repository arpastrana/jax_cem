{
 "cells": [
  {
   "cell_type": "code",
   "execution_count": null,
   "metadata": {},
   "outputs": [],
   "source": []
  },
  {
   "cell_type": "code",
   "execution_count": 18,
   "metadata": {},
   "outputs": [],
   "source": [
    "from compas.geometry import Circle\n",
    "from compas.geometry import Ellipse\n",
    "from compas.geometry import NurbsCurve\n",
    "from compas.geometry import Plane"
   ]
  },
  {
   "cell_type": "code",
   "execution_count": 22,
   "metadata": {},
   "outputs": [],
   "source": [
    "radius = 10.0\n",
    "radius_minor = 5.0\n",
    "point = [0.0, 0.0, 0.0]\n",
    "normal = [0.0, 0.0, 1.0]\n",
    "\n",
    "plane = Plane(point, normal)\n",
    "circle = Circle(plane, radius)\n",
    "ellipse = Ellipse(plane, radius, radius_minor)"
   ]
  },
  {
   "cell_type": "code",
   "execution_count": 23,
   "metadata": {},
   "outputs": [
    {
     "name": "stdout",
     "output_type": "stream",
     "text": [
      "Point(-10.000, 0.000, 0.000)\n",
      "Point(-10.000, 0.000, 0.000)\n",
      "Point(10.000, 0.000, 0.000)\n",
      "Frame(Point(-10.000, 0.000, 0.000), Vector(0.000, 1.000, 0.000), Vector(1.000, -0.000, 0.000))\n",
      "Frame(Point(-10.000, 0.000, 0.000), Vector(-0.000, 1.000, 0.000), Vector(1.000, 0.000, 0.000))\n",
      "Frame(Point(10.000, 0.000, 0.000), Vector(-0.000, -1.000, 0.000), Vector(-1.000, 0.000, 0.000))\n"
     ]
    }
   ],
   "source": [
    "circle_nurbs = NurbsCurve.from_circle(circle)\n",
    "a = circle_nurbs.divide_by_count(5)\n",
    "\n",
    "p0 = circle_nurbs.point_at(a[0])\n",
    "p1 = circle_nurbs.point_at(a[-1])\n",
    "p2 = circle_nurbs.point_at(0.5)\n",
    "\n",
    "print(p0)\n",
    "print(p1)\n",
    "print(p2)\n",
    "\n",
    "p0 = circle_nurbs.frame_at(a[0])\n",
    "p1 = circle_nurbs.frame_at(a[-1])\n",
    "p2 = circle_nurbs.frame_at(0.5)\n",
    "\n",
    "print(p0)\n",
    "print(p1)\n",
    "print(p2)"
   ]
  },
  {
   "cell_type": "code",
   "execution_count": 26,
   "metadata": {},
   "outputs": [
    {
     "name": "stdout",
     "output_type": "stream",
     "text": [
      "Point(0.000, -5.000, 0.000)\n",
      "Point(0.000, -5.000, 0.000)\n",
      "Point(0.000, 5.000, 0.000)\n",
      "Point(-10.000, 0.000, 0.000)\n",
      "Frame(Point(0.000, -5.000, 0.000), Vector(-1.000, 0.000, 0.000), Vector(0.000, 1.000, 0.000))\n",
      "Frame(Point(0.000, -5.000, 0.000), Vector(-1.000, -0.000, 0.000), Vector(-0.000, 1.000, 0.000))\n",
      "Frame(Point(0.000, 5.000, 0.000), Vector(1.000, -0.000, 0.000), Vector(-0.000, -1.000, -0.000))\n",
      "Frame(Point(-10.000, 0.000, 0.000), Vector(0.000, 1.000, 0.000), Vector(1.000, -0.000, 0.000))\n"
     ]
    }
   ],
   "source": [
    "circle_nurbs = NurbsCurve.from_ellipse(ellipse)\n",
    "a = circle_nurbs.divide_by_count(5)\n",
    "\n",
    "p0 = circle_nurbs.point_at(a[0])\n",
    "p1 = circle_nurbs.point_at(a[-1])\n",
    "p2 = circle_nurbs.point_at(0.5)\n",
    "p3 = circle_nurbs.point_at(0.25)\n",
    "\n",
    "print(p0)\n",
    "print(p1)\n",
    "print(p2)\n",
    "print(p3)\n",
    "\n",
    "p0 = circle_nurbs.frame_at(a[0])\n",
    "p1 = circle_nurbs.frame_at(a[-1])\n",
    "p2 = circle_nurbs.frame_at(0.5)\n",
    "p3 = circle_nurbs.frame_at(0.25)\n",
    "\n",
    "print(p0)\n",
    "print(p1)\n",
    "print(p2)\n",
    "print(p3)"
   ]
  },
  {
   "cell_type": "code",
   "execution_count": null,
   "metadata": {},
   "outputs": [],
   "source": []
  }
 ],
 "metadata": {
  "kernelspec": {
   "display_name": "jax",
   "language": "python",
   "name": "python3"
  },
  "language_info": {
   "codemirror_mode": {
    "name": "ipython",
    "version": 3
   },
   "file_extension": ".py",
   "mimetype": "text/x-python",
   "name": "python",
   "nbconvert_exporter": "python",
   "pygments_lexer": "ipython3",
   "version": "3.9.16"
  }
 },
 "nbformat": 4,
 "nbformat_minor": 2
}
